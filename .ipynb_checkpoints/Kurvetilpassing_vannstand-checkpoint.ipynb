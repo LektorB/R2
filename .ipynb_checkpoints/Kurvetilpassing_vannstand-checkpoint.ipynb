{
 "cells": [
  {
   "cell_type": "code",
   "execution_count": null,
   "id": "e6f323c9-55e2-44e9-b73b-e4459ac8d86c",
   "metadata": {},
   "outputs": [],
   "source": [
    "import pandas as pd\n",
    "import matplotlib.pyplot as plt\n",
    "import numpy as np\n",
    "import scipy.optimize as opt\n",
    "\n",
    "# Banen til datafilen Sørg for at filen er i samme mappe som scriptet\n",
    "filepath = 'vannstandsdata__60.3931_5.3327.txt'\n",
    "#Last ned nyere data om du vil: https://www.kartverket.no/til-sjos/se-havniva/resultat?latitude=60.3931&longitude=5.3327\n",
    "\n",
    "# Les dataene med Pandas\n",
    "df = pd.read_csv(\n",
    "    filepath,\n",
    "    skiprows=14,     # - `skiprows=14`: Hopper over de første 14 linjene med metadata\n",
    "    sep='\\s+',       # - `sep='\\s+'`: Angir at kolonnene er separert med en eller flere mellomrom\n",
    "    header=None,     # - `header=None`: Forteller Pandas at filen ikke har en kolonneoverskrift\n",
    "    usecols=[0, 1],  # - `usecols=[0, 1, 2]`: Vi vil kun lese de tre første kolonnene (tid, observert, forventet)\n",
    "    parse_dates=[0]  # - `parse_dates=[0]`: Konverterer den første kolonnen (indeks 0) til dato/tid-objekter\n",
    ")\n",
    "\n",
    "# Gi kolonnene meningsfulle navn\n",
    "df.columns = ['Tid', 'Vannstand']#, 'Forventet Tidevann']\n",
    "\n",
    "# Sett 'Tid'-kolonnen som indeksen for DataFrame, noe som er praktisk for tidsserier\n",
    "df.set_index('Tid', inplace=True)\n",
    "\n",
    "df.plot(title ='Vannstand i Bergen 8. til 10. sept 2025' )\n",
    "# Høyde = df['Vannstand'].tolist()\n",
    "# Timer = np.arange(1,len(Høyde)+1)\n",
    "# plt.plot(Timer,Høyde,'x')\n",
    "plt.show()\n"
   ]
  }
 ],
 "metadata": {
  "kernelspec": {
   "display_name": "Python 3 (ipykernel)",
   "language": "python",
   "name": "python3"
  },
  "language_info": {
   "codemirror_mode": {
    "name": "ipython",
    "version": 3
   },
   "file_extension": ".py",
   "mimetype": "text/x-python",
   "name": "python",
   "nbconvert_exporter": "python",
   "pygments_lexer": "ipython3",
   "version": "3.11.11"
  }
 },
 "nbformat": 4,
 "nbformat_minor": 5
}
